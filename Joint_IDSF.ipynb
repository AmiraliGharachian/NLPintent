{
  "cells": [
    {
      "cell_type": "code",
      "execution_count": 1,
      "metadata": {
        "colab": {
          "base_uri": "https://localhost:8080/"
        },
        "id": "jzZlNuJGK2sP",
        "outputId": "9c61fa4b-1050-4888-8057-3b156335ccf4"
      },
      "outputs": [
        {
          "output_type": "stream",
          "name": "stdout",
          "text": [
            "Mounted at /content/drive\n"
          ]
        }
      ],
      "source": [
        "from google.colab import drive\n",
        "drive.mount('/content/drive')"
      ]
    },
    {
      "cell_type": "code",
      "execution_count": 2,
      "metadata": {
        "colab": {
          "base_uri": "https://localhost:8080/"
        },
        "id": "Jb7RxgNHN30Q",
        "outputId": "0ff55dd5-c49a-4480-86aa-2a5fbeafacb2"
      },
      "outputs": [
        {
          "output_type": "stream",
          "name": "stdout",
          "text": [
            "Requirement already satisfied: transformers in /usr/local/lib/python3.10/dist-packages (4.41.2)\n",
            "Requirement already satisfied: filelock in /usr/local/lib/python3.10/dist-packages (from transformers) (3.15.1)\n",
            "Requirement already satisfied: huggingface-hub<1.0,>=0.23.0 in /usr/local/lib/python3.10/dist-packages (from transformers) (0.23.4)\n",
            "Requirement already satisfied: numpy>=1.17 in /usr/local/lib/python3.10/dist-packages (from transformers) (1.25.2)\n",
            "Requirement already satisfied: packaging>=20.0 in /usr/local/lib/python3.10/dist-packages (from transformers) (24.1)\n",
            "Requirement already satisfied: pyyaml>=5.1 in /usr/local/lib/python3.10/dist-packages (from transformers) (6.0.1)\n",
            "Requirement already satisfied: regex!=2019.12.17 in /usr/local/lib/python3.10/dist-packages (from transformers) (2024.5.15)\n",
            "Requirement already satisfied: requests in /usr/local/lib/python3.10/dist-packages (from transformers) (2.31.0)\n",
            "Requirement already satisfied: tokenizers<0.20,>=0.19 in /usr/local/lib/python3.10/dist-packages (from transformers) (0.19.1)\n",
            "Requirement already satisfied: safetensors>=0.4.1 in /usr/local/lib/python3.10/dist-packages (from transformers) (0.4.3)\n",
            "Requirement already satisfied: tqdm>=4.27 in /usr/local/lib/python3.10/dist-packages (from transformers) (4.66.4)\n",
            "Requirement already satisfied: fsspec>=2023.5.0 in /usr/local/lib/python3.10/dist-packages (from huggingface-hub<1.0,>=0.23.0->transformers) (2023.6.0)\n",
            "Requirement already satisfied: typing-extensions>=3.7.4.3 in /usr/local/lib/python3.10/dist-packages (from huggingface-hub<1.0,>=0.23.0->transformers) (4.12.2)\n",
            "Requirement already satisfied: charset-normalizer<4,>=2 in /usr/local/lib/python3.10/dist-packages (from requests->transformers) (3.3.2)\n",
            "Requirement already satisfied: idna<4,>=2.5 in /usr/local/lib/python3.10/dist-packages (from requests->transformers) (3.7)\n",
            "Requirement already satisfied: urllib3<3,>=1.21.1 in /usr/local/lib/python3.10/dist-packages (from requests->transformers) (2.0.7)\n",
            "Requirement already satisfied: certifi>=2017.4.17 in /usr/local/lib/python3.10/dist-packages (from requests->transformers) (2024.6.2)\n",
            "Collecting seqeval\n",
            "  Downloading seqeval-1.2.2.tar.gz (43 kB)\n",
            "\u001b[2K     \u001b[90m━━━━━━━━━━━━━━━━━━━━━━━━━━━━━━━━━━━━━━━━\u001b[0m \u001b[32m43.6/43.6 kB\u001b[0m \u001b[31m1.9 MB/s\u001b[0m eta \u001b[36m0:00:00\u001b[0m\n",
            "\u001b[?25h  Preparing metadata (setup.py) ... \u001b[?25l\u001b[?25hdone\n",
            "Requirement already satisfied: numpy>=1.14.0 in /usr/local/lib/python3.10/dist-packages (from seqeval) (1.25.2)\n",
            "Requirement already satisfied: scikit-learn>=0.21.3 in /usr/local/lib/python3.10/dist-packages (from seqeval) (1.2.2)\n",
            "Requirement already satisfied: scipy>=1.3.2 in /usr/local/lib/python3.10/dist-packages (from scikit-learn>=0.21.3->seqeval) (1.11.4)\n",
            "Requirement already satisfied: joblib>=1.1.1 in /usr/local/lib/python3.10/dist-packages (from scikit-learn>=0.21.3->seqeval) (1.4.2)\n",
            "Requirement already satisfied: threadpoolctl>=2.0.0 in /usr/local/lib/python3.10/dist-packages (from scikit-learn>=0.21.3->seqeval) (3.5.0)\n",
            "Building wheels for collected packages: seqeval\n",
            "  Building wheel for seqeval (setup.py) ... \u001b[?25l\u001b[?25hdone\n",
            "  Created wheel for seqeval: filename=seqeval-1.2.2-py3-none-any.whl size=16161 sha256=3091bf7ef7098799d8bf478fe5c3cad3c9f6f404a64c8a447ddca40ad7bbf3ee\n",
            "  Stored in directory: /root/.cache/pip/wheels/1a/67/4a/ad4082dd7dfc30f2abfe4d80a2ed5926a506eb8a972b4767fa\n",
            "Successfully built seqeval\n",
            "Installing collected packages: seqeval\n",
            "Successfully installed seqeval-1.2.2\n"
          ]
        }
      ],
      "source": [
        "!pip install transformers\n",
        "!pip install seqeval"
      ]
    },
    {
      "cell_type": "code",
      "execution_count": 3,
      "metadata": {
        "colab": {
          "base_uri": "https://localhost:8080/"
        },
        "id": "PV4HCQOuN9nW",
        "outputId": "e5317e81-ec0c-4cc3-f774-51dceb559d5f"
      },
      "outputs": [
        {
          "output_type": "stream",
          "name": "stdout",
          "text": [
            "Downloading...\n",
            "From: https://amazon-massive-nlu-dataset.s3.amazonaws.com/amazon-massive-dataset-1.0.tar.gz\n",
            "To: /content/amazon-massive-dataset-1.0.tar.gz\n",
            "100% 39.5M/39.5M [00:03<00:00, 10.5MB/s]\n",
            "1.0/\n",
            "1.0/CITATION.md\n",
            "1.0/NOTICE.md\n",
            "1.0/data/\n",
            "1.0/data/mn-MN.jsonl\n",
            "1.0/data/af-ZA.jsonl\n",
            "1.0/data/el-GR.jsonl\n",
            "1.0/data/ta-IN.jsonl\n",
            "1.0/data/ar-SA.jsonl\n",
            "1.0/data/ur-PK.jsonl\n",
            "1.0/data/pl-PL.jsonl\n",
            "1.0/data/ko-KR.jsonl\n",
            "1.0/data/az-AZ.jsonl\n",
            "1.0/data/da-DK.jsonl\n",
            "1.0/data/kn-IN.jsonl\n",
            "1.0/data/tl-PH.jsonl\n",
            "1.0/data/is-IS.jsonl\n",
            "1.0/data/lv-LV.jsonl\n",
            "1.0/data/it-IT.jsonl\n",
            "1.0/data/es-ES.jsonl\n",
            "1.0/data/fr-FR.jsonl\n",
            "1.0/data/ml-IN.jsonl\n",
            "1.0/data/km-KH.jsonl\n",
            "1.0/data/fa-IR.jsonl\n",
            "1.0/data/sw-KE.jsonl\n",
            "1.0/data/en-US.jsonl\n",
            "1.0/data/tr-TR.jsonl\n",
            "1.0/data/bn-BD.jsonl\n",
            "1.0/data/he-IL.jsonl\n",
            "1.0/data/te-IN.jsonl\n",
            "1.0/data/pt-PT.jsonl\n",
            "1.0/data/ka-GE.jsonl\n",
            "1.0/data/ja-JP.jsonl\n",
            "1.0/data/id-ID.jsonl\n",
            "1.0/data/ru-RU.jsonl\n",
            "1.0/data/hy-AM.jsonl\n",
            "1.0/data/nb-NO.jsonl\n",
            "1.0/data/ms-MY.jsonl\n",
            "1.0/data/sq-AL.jsonl\n",
            "1.0/data/sv-SE.jsonl\n",
            "1.0/data/fi-FI.jsonl\n",
            "1.0/data/th-TH.jsonl\n",
            "1.0/data/de-DE.jsonl\n",
            "1.0/data/vi-VN.jsonl\n",
            "1.0/data/my-MM.jsonl\n",
            "1.0/data/jv-ID.jsonl\n",
            "1.0/data/sl-SL.jsonl\n",
            "1.0/data/hi-IN.jsonl\n",
            "1.0/data/nl-NL.jsonl\n",
            "1.0/data/zh-CN.jsonl\n",
            "1.0/data/hu-HU.jsonl\n",
            "1.0/data/ro-RO.jsonl\n",
            "1.0/data/zh-TW.jsonl\n",
            "1.0/data/cy-GB.jsonl\n",
            "1.0/data/am-ET.jsonl\n",
            "1.0/LICENSE\n"
          ]
        }
      ],
      "source": [
        "!gdown https://amazon-massive-nlu-dataset.s3.amazonaws.com/amazon-massive-dataset-1.0.tar.gz\n",
        "!tar -xvf /content/amazon-massive-dataset-1.0.tar.gz"
      ]
    },
    {
      "cell_type": "code",
      "execution_count": 7,
      "metadata": {
        "colab": {
          "base_uri": "https://localhost:8080/"
        },
        "id": "OByYPW5QOCFR",
        "outputId": "badaa375-e127-4cb9-b328-42dd8db7c388"
      },
      "outputs": [
        {
          "output_type": "stream",
          "name": "stdout",
          "text": [
            "Slots labels:  ['I-place_name', 'B-device_type', 'I-food_type', 'B-movie_name', 'I-house_place', 'I-ingredient', 'B-house_place', 'B-currency_name', 'I-general_frequency', 'B-music_album', 'B-alarm_type', 'B-news_topic', 'B-song_name', 'B-person', 'I-audiobook_author', 'B-podcast_name', 'B-sport_type', 'I-player_setting', 'I-sport_type', 'I-audiobook_name', 'B-business_type', 'I-change_amount', 'B-playlist_name', 'B-time', 'I-definition_word', 'I-artist_name', 'I-coffee_type', 'I-transport_type', 'I-music_genre', 'B-definition_word', 'B-movie_type', 'B-audiobook_name', 'B-event_name', 'I-relation', 'B-transport_agency', 'B-food_type', 'B-timeofday', 'B-game_name', 'B-transport_name', 'I-radio_name', 'I-music_descriptor', 'I-app_name', 'I-alarm_type', 'I-meal_type', 'B-transport_type', 'B-order_type', 'B-time_zone', 'B-media_type', 'B-radio_name', 'I-joke_type', 'B-music_genre', 'I-transport_descriptor', 'I-date', 'I-music_album', 'B-color_type', 'I-time_zone', 'B-relation', 'I-movie_name', 'I-drink_type', 'I-personal_info', 'O', 'B-general_frequency', 'B-transport_descriptor', 'I-media_type', 'I-business_type', 'B-joke_type', 'B-player_setting', 'B-email_address', 'B-list_name', 'B-cooking_type', 'I-transport_agency', 'I-device_type', 'I-event_name', 'B-change_amount', 'I-news_topic', 'I-podcast_descriptor', 'B-game_type', 'B-date', 'B-personal_info', 'I-time', 'I-playlist_name', 'B-audiobook_author', 'I-person', 'B-app_name', 'I-weather_descriptor', 'I-game_name', 'I-transport_name', 'I-color_type', 'I-email_address', 'B-weather_descriptor', 'B-drink_type', 'I-list_name', 'I-timeofday', 'I-song_name', 'B-artist_name', 'B-email_folder', 'B-ingredient', 'I-podcast_name', 'B-place_name', 'B-coffee_type', 'B-meal_type', 'I-currency_name', 'B-podcast_descriptor', 'I-order_type', 'B-music_descriptor', 'B-business_name', 'I-movie_type', 'I-business_name']\n",
            "Number of Slots labels : 108\n",
            "Intent labels:  ['play_music', 'music_query', 'iot_wemo_on', 'lists_createoradd', 'takeaway_query', 'takeaway_order', 'email_addcontact', 'calendar_query', 'transport_query', 'audio_volume_mute', 'email_query', 'iot_hue_lightoff', 'general_greet', 'music_likeness', 'iot_hue_lightdim', 'transport_ticket', 'qa_definition', 'alarm_remove', 'play_podcasts', 'music_settings', 'cooking_recipe', 'alarm_set', 'datetime_convert', 'music_dislikeness', 'qa_factoid', 'lists_remove', 'social_query', 'email_querycontact', 'iot_hue_lighton', 'news_query', 'iot_hue_lightup', 'cooking_query', 'qa_maths', 'play_game', 'general_joke', 'lists_query', 'recommendation_events', 'audio_volume_other', 'transport_traffic', 'audio_volume_down', 'qa_stock', 'calendar_set', 'iot_wemo_off', 'iot_hue_lightchange', 'recommendation_movies', 'qa_currency', 'datetime_query', 'social_post', 'calendar_remove', 'email_sendemail', 'audio_volume_up', 'iot_coffee', 'recommendation_locations', 'play_audiobook', 'general_quirky', 'alarm_query', 'weather_query', 'transport_taxi', 'iot_cleaning', 'play_radio']\n",
            "Number of Intents labels : 60\n"
          ]
        }
      ],
      "source": [
        "!python /content/drive/MyDrive/FinChatbot_Joint_IDSF/data_parsing.py"
      ]
    },
    {
      "cell_type": "code",
      "execution_count": 14,
      "metadata": {
        "colab": {
          "base_uri": "https://localhost:8080/"
        },
        "id": "SIBDRSxxOEjp",
        "outputId": "ef742812-a65e-4e69-c59d-7c0171a93090"
      },
      "outputs": [
        {
          "output_type": "stream",
          "name": "stdout",
          "text": [
            "Warning : Size 50  is bigger, truncating index 6892\n",
            "Warning : Size 64  is bigger, truncating index 2042\n",
            "tokenized\n",
            "/usr/local/lib/python3.10/dist-packages/huggingface_hub/file_download.py:1132: FutureWarning: `resume_download` is deprecated and will be removed in version 1.0.0. Downloads always resume when possible. If you want to force a new download, use `force_download=True`.\n",
            "  warnings.warn(\n",
            "/content/drive/MyDrive/FinChatbot_Joint_IDSF/training_script.py:28: DeprecationWarning: In future, it will be an error for 'np.bool_' scalars to be interpreted as an index\n",
            "  Data[\"tr_masks\"] = torch.tensor(Data[\"tr_masks\"])\n",
            "/content/drive/MyDrive/FinChatbot_Joint_IDSF/training_script.py:29: DeprecationWarning: In future, it will be an error for 'np.bool_' scalars to be interpreted as an index\n",
            "  Data[\"val_masks\"] = torch.tensor(Data[\"val_masks\"])\n",
            "/content/drive/MyDrive/FinChatbot_Joint_IDSF/training_script.py:30: DeprecationWarning: In future, it will be an error for 'np.bool_' scalars to be interpreted as an index\n",
            "  Data[\"test_masks\"] = torch.tensor(Data[\"test_masks\"])\n",
            "Some weights of BertIDSF were not initialized from the model checkpoint at bert-base-multilingual-cased and are newly initialized: ['intent_classifier.linear.bias', 'intent_classifier.linear.weight', 'slot_classifier.linear.bias', 'slot_classifier.linear.weight']\n",
            "You should probably TRAIN this model on a down-stream task to be able to use it for predictions and inference.\n",
            "/usr/local/lib/python3.10/dist-packages/transformers/optimization.py:588: FutureWarning: This implementation of AdamW is deprecated and will be removed in a future version. Use the PyTorch implementation torch.optim.AdamW instead, or set `no_deprecation_warning=True` to disable this warning\n",
            "  warnings.warn(\n",
            "Epoch 0\n",
            "  0% 0/90 [00:00<?, ?it/s]BertSdpaSelfAttention is used but `torch.nn.functional.scaled_dot_product_attention` does not support non-absolute `position_embedding_type` or `output_attentions=True` or `head_mask`. Falling back to the manual attention implementation, but specifying the manual implementation will be required from Transformers version v5.0.0 onwards. This warning can be removed using the argument `attn_implementation=\"eager\"` when loading the model.\n",
            "100% 90/90 [01:20<00:00,  1.12it/s]\n",
            "Average train loss: 1.8895298017395867\n",
            "Metrics on Train data: P=0.33955, R=0.29082, F1=0.31330, Acc=0.78548, EM=0.30163\n",
            "Metrics on Validation data: P=0.39885, R=0.38022, F1=0.38931, Acc=0.76734, EM=0.32612\n",
            "------------------------------------------------------------------------------------------------------------------------ do not look (metrics on test data)------------------------------- 0.40875912408759124 0.37797513321492004 0.39276485788113696 0.7612642905178211 0.3291862811028917\n",
            "Epoch 1\n",
            "100% 90/90 [01:25<00:00,  1.05it/s]\n",
            "Average train loss: 0.778347067700492\n",
            "Metrics on Train data: P=0.41235, R=0.39511, F1=0.40354, Acc=0.89187, EM=0.37641\n",
            "Metrics on Validation data: P=0.51807, R=0.53429, F1=0.52606, Acc=0.83817, EM=0.43532\n",
            "------------------------------------------------------------------------------------------------------------------------ do not look (metrics on test data)------------------------------- 0.5235273614499826 0.5335701598579041 0.5285010555946517 0.831876260928043 0.44048419636852726\n",
            "Epoch 2\n",
            "100% 90/90 [01:30<00:00,  1.01s/it]\n",
            "Average train loss: 0.5158075643910303\n",
            "Metrics on Train data: P=0.38515, R=0.46043, F1=0.41944, Acc=0.93894, EM=0.40742\n",
            "Metrics on Validation data: P=0.51325, R=0.62575, F1=0.56394, Acc=0.86326, EM=0.48303\n",
            "------------------------------------------------------------------------------------------------------------------------ do not look (metrics on test data)------------------------------- 0.5017441860465116 0.6131438721136767 0.5518784972022382 0.8560860793544048 0.495965030262273\n",
            "Epoch 3\n",
            "100% 90/90 [01:30<00:00,  1.01s/it]\n",
            "Average train loss: 0.37781664729118347\n",
            "Metrics on Train data: P=0.42253, R=0.49966, F1=0.45787, Acc=0.96265, EM=0.44181\n",
            "Metrics on Validation data: P=0.56846, R=0.68091, F1=0.61963, Acc=0.86719, EM=0.53665\n",
            "------------------------------------------------------------------------------------------------------------------------ do not look (metrics on test data)------------------------------- 0.5636749545178896 0.6603907637655417 0.6082120071977752 0.8591123066577001 0.5346334902488231\n",
            "Epoch 4\n",
            "100% 90/90 [01:30<00:00,  1.01s/it]\n",
            "Average train loss: 0.2850313378704919\n",
            "Metrics on Train data: P=0.44098, R=0.52347, F1=0.47870, Acc=0.97594, EM=0.46665\n",
            "Metrics on Validation data: P=0.61185, R=0.70825, F1=0.65653, Acc=0.88392, EM=0.58337\n",
            "------------------------------------------------------------------------------------------------------------------------ do not look (metrics on test data)------------------------------- 0.5979791794243723 0.6937833037300177 0.6423285643808584 0.8658372562205784 0.5746469401479489\n",
            "Epoch 5\n",
            "100% 90/90 [01:30<00:00,  1.01s/it]\n",
            "Average train loss: 0.21409472011857564\n",
            "Metrics on Train data: P=0.45193, R=0.53981, F1=0.49197, Acc=0.98749, EM=0.48758\n",
            "Metrics on Validation data: P=0.63569, R=0.72416, F1=0.67704, Acc=0.87113, EM=0.60010\n",
            "------------------------------------------------------------------------------------------------------------------------ do not look (metrics on test data)------------------------------- 0.6343072573044298 0.7172291296625222 0.6732244081360453 0.871217215870881 0.605245460659045\n",
            "Epoch 6\n",
            "100% 90/90 [01:31<00:00,  1.01s/it]\n",
            "Average train loss: 0.17343500902255377\n",
            "Metrics on Train data: P=0.49128, R=0.56328, F1=0.52482, Acc=0.99010, EM=0.50261\n",
            "Metrics on Validation data: P=0.67354, R=0.74652, F1=0.70816, Acc=0.87309, EM=0.62764\n",
            "------------------------------------------------------------------------------------------------------------------------ do not look (metrics on test data)------------------------------- 0.6673177083333334 0.7282415630550622 0.696449804654323 0.8691997310020175 0.620712844653665\n",
            "Epoch 7\n",
            "100% 90/90 [01:30<00:00,  1.01s/it]\n",
            "Average train loss: 0.13874171384506756\n",
            "Metrics on Train data: P=0.50799, R=0.57364, F1=0.53883, Acc=0.99444, EM=0.51615\n",
            "Metrics on Validation data: P=0.69407, R=0.75099, F1=0.72141, Acc=0.87605, EM=0.63305\n",
            "------------------------------------------------------------------------------------------------------------------------ do not look (metrics on test data)------------------------------- 0.698296024056131 0.7424511545293073 0.7196969696969696 0.8722259583053127 0.6358439811701412\n",
            "Epoch 8\n",
            "100% 90/90 [01:30<00:00,  1.01s/it]\n",
            "Average train loss: 0.11238938785261578\n",
            "Metrics on Train data: P=0.49667, R=0.58893, F1=0.53888, Acc=0.99574, EM=0.52658\n",
            "Metrics on Validation data: P=0.68568, R=0.77087, F1=0.72578, Acc=0.88392, EM=0.64978\n",
            "------------------------------------------------------------------------------------------------------------------------ do not look (metrics on test data)------------------------------- 0.687199230028874 0.760923623445826 0.7221847606203641 0.8725622057834567 0.644586415601883\n",
            "Epoch 9\n",
            "100% 90/90 [01:30<00:00,  1.01s/it]\n",
            "Average train loss: 0.09116637768844764\n",
            "Metrics on Train data: P=0.52754, R=0.59186, F1=0.55785, Acc=0.99687, EM=0.53318\n",
            "Metrics on Validation data: P=0.71461, R=0.77783, F1=0.74488, Acc=0.88244, EM=0.66011\n",
            "------------------------------------------------------------------------------------------------------------------------ do not look (metrics on test data)------------------------------- 0.7095285196175404 0.7644760213143872 0.7359781121751026 0.8735709482178884 0.6496301277740417\n",
            "Epoch 10\n",
            "100% 90/90 [01:30<00:00,  1.01s/it]\n",
            "Average train loss: 0.07907248329785135\n",
            "Metrics on Train data: P=0.52859, R=0.59583, F1=0.56020, Acc=0.99774, EM=0.54013\n",
            "Metrics on Validation data: P=0.71279, R=0.78082, F1=0.74526, Acc=0.88096, EM=0.65371\n",
            "------------------------------------------------------------------------------------------------------------------------ do not look (metrics on test data)------------------------------- 0.7084161696487741 0.7595026642984014 0.7330704611692097 0.8728984532616005 0.6529926025554809\n",
            "Epoch 11\n",
            "100% 90/90 [01:30<00:00,  1.01s/it]\n",
            "Average train loss: 0.06473094096614254\n",
            "Metrics on Train data: P=0.50666, R=0.60549, F1=0.55169, Acc=0.99766, EM=0.54412\n",
            "Metrics on Validation data: P=0.71319, R=0.78479, F1=0.74728, Acc=0.87949, EM=0.65322\n",
            "------------------------------------------------------------------------------------------------------------------------ do not look (metrics on test data)------------------------------- 0.7122749590834697 0.7730017761989343 0.741396933560477 0.8702084734364492 0.6607262945527909\n",
            "Epoch 12\n",
            "100% 90/90 [01:30<00:00,  1.01s/it]\n",
            "Average train loss: 0.056878666745291816\n",
            "Metrics on Train data: P=0.51015, R=0.60927, F1=0.55532, Acc=0.99904, EM=0.54577\n",
            "Metrics on Validation data: P=0.71556, R=0.79523, F1=0.75330, Acc=0.87801, EM=0.65519\n",
            "------------------------------------------------------------------------------------------------------------------------ do not look (metrics on test data)------------------------------- 0.7159647404505387 0.7790408525754885 0.7461721674038789 0.8708809683927371 0.6610625420309347\n",
            "Epoch 13\n",
            "100% 90/90 [01:30<00:00,  1.01s/it]\n",
            "Average train loss: 0.04652760037117534\n",
            "Metrics on Train data: P=0.51665, R=0.61206, F1=0.56032, Acc=0.99913, EM=0.54612\n",
            "Metrics on Validation data: P=0.70806, R=0.79920, F1=0.75088, Acc=0.88490, EM=0.66060\n",
            "------------------------------------------------------------------------------------------------------------------------ do not look (metrics on test data)------------------------------- 0.706090879793748 0.7783303730017762 0.7404528556944913 0.8759246805648958 0.6637525218560861\n",
            "Epoch 14\n",
            "100% 90/90 [01:30<00:00,  1.01s/it]\n",
            "Average train loss: 0.03946751691401005\n",
            "Metrics on Train data: P=0.53324, R=0.61882, F1=0.57285, Acc=0.99922, EM=0.55003\n",
            "Metrics on Validation data: P=0.71755, R=0.79672, F1=0.75506, Acc=0.87801, EM=0.66404\n",
            "------------------------------------------------------------------------------------------------------------------------ do not look (metrics on test data)------------------------------- 0.7227885563959224 0.7808170515097691 0.7506830601092898 0.8762609280430397 0.6708137188971083\n",
            "Epoch 15\n",
            "100% 90/90 [01:30<00:00,  1.01s/it]\n",
            "Average train loss: 0.03361617730309566\n",
            "Metrics on Train data: P=0.52803, R=0.61623, F1=0.56873, Acc=0.99939, EM=0.55081\n",
            "Metrics on Validation data: P=0.72165, R=0.80020, F1=0.75890, Acc=0.88883, EM=0.67044\n",
            "------------------------------------------------------------------------------------------------------------------------ do not look (metrics on test data)------------------------------- 0.7233761951862842 0.7793960923623445 0.7503419972640218 0.8742434431741762 0.6694687289845326\n",
            "Epoch 16\n",
            "100% 90/90 [01:31<00:00,  1.01s/it]\n",
            "Average train loss: 0.030734375584870577\n",
            "Metrics on Train data: P=0.53937, R=0.62259, F1=0.57800, Acc=0.99965, EM=0.55776\n",
            "Metrics on Validation data: P=0.73349, R=0.80020, F1=0.76539, Acc=0.88392, EM=0.67585\n",
            "------------------------------------------------------------------------------------------------------------------------ do not look (metrics on test data)------------------------------- 0.7291527685123416 0.7765541740674956 0.7521073456046792 0.879287155346335 0.6755211835911231\n",
            "Epoch 17\n",
            "100% 90/90 [01:30<00:00,  1.01s/it]\n",
            "Average train loss: 0.027378446370777156\n",
            "Metrics on Train data: P=0.55441, R=0.62060, F1=0.58564, Acc=0.99957, EM=0.55836\n",
            "Metrics on Validation data: P=0.73911, R=0.80119, F1=0.76890, Acc=0.88244, EM=0.68175\n",
            "------------------------------------------------------------------------------------------------------------------------ do not look (metrics on test data)------------------------------- 0.7317073170731707 0.7779751332149201 0.7541322314049587 0.8745796906523201 0.6735036987222596\n",
            "Epoch 18\n",
            "100% 90/90 [01:31<00:00,  1.01s/it]\n",
            "Average train loss: 0.025599898967064088\n",
            "Metrics on Train data: P=0.54756, R=0.62276, F1=0.58274, Acc=0.99957, EM=0.55715\n",
            "Metrics on Validation data: P=0.73150, R=0.80567, F1=0.76679, Acc=0.88490, EM=0.67585\n",
            "------------------------------------------------------------------------------------------------------------------------ do not look (metrics on test data)------------------------------- 0.7271225635943178 0.7818827708703375 0.7535090722355359 0.8802958977807667 0.6788836583725623\n",
            "Epoch 19\n",
            "100% 90/90 [01:30<00:00,  1.01s/it]\n",
            "Average train loss: 0.023685705102980136\n",
            "Metrics on Train data: P=0.54228, R=0.61700, F1=0.57723, Acc=0.99957, EM=0.55567\n",
            "Metrics on Validation data: P=0.72809, R=0.80517, F1=0.76469, Acc=0.88490, EM=0.67536\n",
            "------------------------------------------------------------------------------------------------------------------------ do not look (metrics on test data)------------------------------- 0.7263469119579501 0.7854351687388987 0.7547363031233998 0.8796234028244788 0.6782111634162744\n"
          ]
        }
      ],
      "source": [
        "!python /content/drive/MyDrive/FinChatbot_Joint_IDSF/training_script.py"
      ]
    },
    {
      "cell_type": "code",
      "execution_count": 15,
      "metadata": {
        "colab": {
          "base_uri": "https://localhost:8080/"
        },
        "id": "QBmSyABnOJcs",
        "outputId": "8c229ce5-b4c4-4c31-da3c-e2a719ccf870"
      },
      "outputs": [
        {
          "output_type": "stream",
          "name": "stdout",
          "text": [
            "BertSdpaSelfAttention is used but `torch.nn.functional.scaled_dot_product_attention` does not support non-absolute `position_embedding_type` or `output_attentions=True` or `head_mask`. Falling back to the manual attention implementation, but specifying the manual implementation will be required from Transformers version v5.0.0 onwards. This warning can be removed using the argument `attn_implementation=\"eager\"` when loading the model.\n",
            "Required time to calculate intent and slot labels for 2 samples:  0.6428563594818115\n",
            "Golden Labels\n",
            "\n",
            "hey:O what:O has:O been:O happening:O interesting:O in:O sports:O lately:O <=> general_quirky\n",
            "tell:O me:O some:O best:B-place_name tourist:I-place_name places:I-place_name to:O visit:O in:O america:B-place_name <=> recommendation_locations\n",
            "\n",
            "## Intent: news_query\n",
            "## Slots:\n",
            "       hey : O\n",
            "      what : O\n",
            "       has : O\n",
            "      been : O\n",
            " happening : O\n",
            "interesting : O\n",
            "        in : O\n",
            "    sports : B-news_topic\n",
            "    lately : O\n",
            "\n",
            "## Intent: recommendation_locations\n",
            "## Slots:\n",
            "      tell : O\n",
            "        me : O\n",
            "      some : O\n",
            "      best : O\n",
            "   tourist : O\n",
            "    places : O\n",
            "        to : O\n",
            "     visit : O\n",
            "        in : O\n",
            "   america : B-place_name\n"
          ]
        }
      ],
      "source": [
        "!python /content/drive/MyDrive/FinChatbot_Joint_IDSF/using_script.py"
      ]
    }
  ],
  "metadata": {
    "accelerator": "GPU",
    "colab": {
      "gpuType": "T4",
      "provenance": []
    },
    "kernelspec": {
      "display_name": "Python 3",
      "name": "python3"
    },
    "language_info": {
      "name": "python"
    }
  },
  "nbformat": 4,
  "nbformat_minor": 0
}